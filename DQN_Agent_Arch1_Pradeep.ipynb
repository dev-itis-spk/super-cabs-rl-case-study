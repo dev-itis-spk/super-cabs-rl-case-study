{
 "cells": [
  {
   "cell_type": "markdown",
   "metadata": {
    "id": "b8umnh26Rxvz"
   },
   "source": [
    "### Cab-Driver Agent"
   ]
  },
  {
   "cell_type": "code",
   "execution_count": 14,
   "metadata": {
    "executionInfo": {
     "elapsed": 410,
     "status": "ok",
     "timestamp": 1626579449989,
     "user": {
      "displayName": "Manoj Romina",
      "photoUrl": "",
      "userId": "05949028983322850580"
     },
     "user_tz": -330
    },
    "id": "z8xmw2p3Rxv2"
   },
   "outputs": [],
   "source": [
    "# Importing libraries\n",
    "from collections import deque\n",
    "import collections\n",
    "import numpy as np\n",
    "import random\n",
    "import pickle\n",
    "import math\n",
    "import time\n",
    "\n",
    "# for building DQN model\n",
    "from tensorflow.keras.optimizers import Adam\n",
    "from tensorflow.keras.layers import Dense\n",
    "from tensorflow.keras import Sequential\n",
    "\n",
    "# for plotting graphs\n",
    "%matplotlib inline\n",
    "import matplotlib.pyplot as plt"
   ]
  },
  {
   "cell_type": "code",
   "execution_count": 2,
   "metadata": {
    "colab": {
     "base_uri": "https://localhost:8080/"
    },
    "executionInfo": {
     "elapsed": 22264,
     "status": "ok",
     "timestamp": 1626577662000,
     "user": {
      "displayName": "Manoj Romina",
      "photoUrl": "",
      "userId": "05949028983322850580"
     },
     "user_tz": -330
    },
    "id": "2svwSK0pSWkY",
    "outputId": "595eae5b-234d-4079-b0ba-aa98305c98c0"
   },
   "outputs": [
    {
     "name": "stdout",
     "output_type": "stream",
     "text": [
      "Mounted at /content/gdrive\n"
     ]
    }
   ],
   "source": [
    "# Mounting Google Drive\n",
    "from google.colab import drive\n",
    "\n",
    "drive.mount('/content/gdrive')"
   ]
  },
  {
   "cell_type": "code",
   "execution_count": 3,
   "metadata": {
    "executionInfo": {
     "elapsed": 474,
     "status": "ok",
     "timestamp": 1626577666322,
     "user": {
      "displayName": "Manoj Romina",
      "photoUrl": "",
      "userId": "05949028983322850580"
     },
     "user_tz": -330
    },
    "id": "O8a7ErrUSjHE"
   },
   "outputs": [],
   "source": [
    "# Changing the location to the Data Folder\n",
    "import os\n",
    "os.chdir('/content/gdrive/MyDrive/Colab Notebooks')  #change dir"
   ]
  },
  {
   "cell_type": "code",
   "execution_count": 15,
   "metadata": {
    "executionInfo": {
     "elapsed": 671,
     "status": "ok",
     "timestamp": 1626579456915,
     "user": {
      "displayName": "Manoj Romina",
      "photoUrl": "",
      "userId": "05949028983322850580"
     },
     "user_tz": -330
    },
    "id": "qoXeK-OlSv29"
   },
   "outputs": [],
   "source": [
    "# Import the environment\n",
    "from Env import CabDriver"
   ]
  },
  {
   "cell_type": "code",
   "execution_count": 16,
   "metadata": {
    "executionInfo": {
     "elapsed": 4,
     "status": "ok",
     "timestamp": 1626579456916,
     "user": {
      "displayName": "Manoj Romina",
      "photoUrl": "",
      "userId": "05949028983322850580"
     },
     "user_tz": -330
    },
    "id": "8XL-C_eLRxv-"
   },
   "outputs": [],
   "source": [
    "# Suppressing warnings\n",
    "import warnings\n",
    "warnings.filterwarnings('ignore')"
   ]
  },
  {
   "cell_type": "markdown",
   "metadata": {
    "id": "dtYN-Jk4Rxv_"
   },
   "source": [
    "#### Defining Time Matrix"
   ]
  },
  {
   "cell_type": "code",
   "execution_count": 17,
   "metadata": {
    "executionInfo": {
     "elapsed": 5,
     "status": "ok",
     "timestamp": 1626579457385,
     "user": {
      "displayName": "Manoj Romina",
      "photoUrl": "",
      "userId": "05949028983322850580"
     },
     "user_tz": -330
    },
    "id": "ooCgIBqyRxv_"
   },
   "outputs": [],
   "source": [
    "# Loading the time matrix provided\n",
    "Time_matrix = np.load(\"TM.npy\")"
   ]
  },
  {
   "cell_type": "code",
   "execution_count": 18,
   "metadata": {
    "colab": {
     "base_uri": "https://localhost:8080/"
    },
    "executionInfo": {
     "elapsed": 24,
     "status": "ok",
     "timestamp": 1626579457982,
     "user": {
      "displayName": "Manoj Romina",
      "photoUrl": "",
      "userId": "05949028983322850580"
     },
     "user_tz": -330
    },
    "id": "e5lZUY0MRxwA",
    "outputId": "9834f164-0bc4-4546-b29c-186bec1a14ce"
   },
   "outputs": [
    {
     "name": "stdout",
     "output_type": "stream",
     "text": [
      "Type:  <class 'numpy.ndarray'>\n",
      "Max:  11.0\n",
      "Min:  0.0\n",
      "Mean:  3.0542857142857143\n",
      "Var:  7.93705306122449\n"
     ]
    }
   ],
   "source": [
    "# checking the contents of Time_matrix\n",
    "print(\"Type: \", type(Time_matrix))\n",
    "print(\"Max: \", Time_matrix.max())\n",
    "print(\"Min: \", Time_matrix.min())\n",
    "print(\"Mean: \", Time_matrix.mean())\n",
    "print(\"Var: \", Time_matrix.var())"
   ]
  },
  {
   "cell_type": "markdown",
   "metadata": {
    "id": "KrViHflFRxwD"
   },
   "source": [
    "#### Epsilon-decay sample function"
   ]
  },
  {
   "cell_type": "markdown",
   "metadata": {
    "id": "SuYCIPdPRxwD"
   },
   "source": [
    "<div class=\"alert alert-block alert-info\">\n",
    "Try building a similar epsilon-decay function for your model.\n",
    "</div>"
   ]
  },
  {
   "cell_type": "code",
   "execution_count": 19,
   "metadata": {
    "colab": {
     "base_uri": "https://localhost:8080/",
     "height": 265
    },
    "executionInfo": {
     "elapsed": 24,
     "status": "ok",
     "timestamp": 1626579460044,
     "user": {
      "displayName": "Manoj Romina",
      "photoUrl": "",
      "userId": "05949028983322850580"
     },
     "user_tz": -330
    },
    "id": "vM49dtQ3RxwF",
    "outputId": "6050fa77-56a9-4294-947a-65db95ff238a"
   },
   "outputs": [
    {
     "data": {
      "image/png": "[encoded data removed]",
      "text/plain": [
       "<Figure size 432x288 with 1 Axes>"
      ]
     },
     "metadata": {
      "needs_background": "light",
      "tags": []
     },
     "output_type": "display_data"
    }
   ],
   "source": [
    "episodes = np.arange(0, 15_000)\n",
    "epsilon = []\n",
    "max_epsilon = 1.0\n",
    "min_epsilon = 0.00001\n",
    "\n",
    "for i in range(0, 15_000):\n",
    "    epsilon.append(min_epsilon + (max_epsilon - min_epsilon) * np.exp(-0.0009 * i))\n",
    "    \n",
    "plt.plot(episodes, epsilon)\n",
    "plt.show()"
   ]
  },
  {
   "cell_type": "markdown",
   "metadata": {
    "id": "RSygtQ4jRxwG"
   },
   "source": [
    "### Agent Class\n",
    "\n",
    "If you are using this framework, you need to fill the following to complete the following code block:\n",
    "1. State and Action Size\n",
    "2. Hyperparameters\n",
    "3. Create a neural-network model in function 'build_model()'\n",
    "4. Define epsilon-greedy strategy in function 'get_action()'\n",
    "5. Complete the function 'append_sample()'. This function appends the recent experience tuple <state, action, reward, new-state> to the memory\n",
    "6. Complete the 'train_model()' function with following logic:\n",
    "   - If the memory size is greater than mini-batch size, you randomly sample experiences from memory as per the mini-batch size and do the following:\n",
    "      - Initialise your input and output batch for training the model\n",
    "      - Calculate the target Q value for each sample: reward + gamma*max(Q(s'a,))\n",
    "      - Get Q(s', a) values from the last trained model\n",
    "      - Update the input batch as your encoded state and output batch as your Q-values\n",
    "      - Then fit your DQN model using the updated input and output batch."
   ]
  },
  {
   "cell_type": "code",
   "execution_count": 20,
   "metadata": {
    "executionInfo": {
     "elapsed": 12,
     "status": "ok",
     "timestamp": 1626579462591,
     "user": {
      "displayName": "Manoj Romina",
      "photoUrl": "",
      "userId": "05949028983322850580"
     },
     "user_tz": -330
    },
    "id": "5Am7c8DuRxwH"
   },
   "outputs": [],
   "source": [
    "# Invoke CabDriver Env class\n",
    "env = CabDriver()\n",
    "action_space, state_space, state = env.reset()"
   ]
  },
  {
   "cell_type": "code",
   "execution_count": 27,
   "metadata": {
    "executionInfo": {
     "elapsed": 434,
     "status": "ok",
     "timestamp": 1626580499335,
     "user": {
      "displayName": "Manoj Romina",
      "photoUrl": "",
      "userId": "05949028983322850580"
     },
     "user_tz": -330
    },
    "id": "wxlKbM8uRxwH"
   },
   "outputs": [],
   "source": [
    "class DQNAgent:\n",
    "    \"\"\"Deep Q learning Agent class\"\"\"\n",
    "    \n",
    "    def __init__(self, state_size, action_size):\n",
    "        # Define size of state and action\n",
    "        self.state_size = state_size\n",
    "        self.action_size = action_size\n",
    "\n",
    "        # Write here: Specify you hyper parameters for the DQN\n",
    "        self.discount_factor = 0.95\n",
    "        self.learning_rate = 0.01\n",
    "        self.epsilon = 1.0\n",
    "        self.epsilon_max = 1.0\n",
    "        self.epsilon_decay = -0.0009\n",
    "        self.epsilon_min = 0.00001\n",
    "        self.batch_size = 32\n",
    "        \n",
    "        # create replay memory using deque\n",
    "        self.memory = deque(maxlen=2000)\n",
    "        \n",
    "        # tracking state [0, 0, 0] and action (0, 2) at index 2 in the action space\n",
    "        self.track_state = np.array(env.state_encode_arch1([0, 0, 0])).reshape(1, 36)\n",
    "        \n",
    "        # initializing the state values tracked\n",
    "        self.states_tracked = []\n",
    "\n",
    "        # create main model and target model\n",
    "        self.model = self.build_model()\n",
    "\n",
    "    # approximate Q function using Neural Network\n",
    "    def build_model(self):\n",
    "        \"\"\"Function to build a neural network\"\"\"\n",
    "        model = Sequential()\n",
    "        model.add(Dense(32, input_dim=self.state_size, activation='relu', kernel_initializer='he_uniform'))\n",
    "        model.add(Dense(32, activation='relu', kernel_initializer='he_uniform'))\n",
    "        # output layer\n",
    "        model.add(Dense(self.action_size, activation='relu', kernel_initializer='he_uniform'))\n",
    "        model.compile(loss='mse', optimizer=Adam(lr=self.learning_rate))\n",
    "        # model.summary\n",
    "        return model\n",
    "\n",
    "    def get_action(self, state, possible_actions_index, actions, episode):\n",
    "        \"\"\"Choosing an action for a given state and episode based on epsilon-greedy policy\"\"\"\n",
    "        # calculating decay factor for given episode\n",
    "        self.epsilon = self.epsilon_min + ((self.epsilon_max - self.epsilon_min) * np.exp(self.epsilon_decay * episode))\n",
    "\n",
    "        if np.random.rand() <= self.epsilon:\n",
    "            # Exploration: choosing a random action from ride requests\n",
    "            return random.choice(possible_actions_index)\n",
    "        else:\n",
    "            # Exploitation: choose the action with the highest state action value\n",
    "            # Reshape state to (1, state_size), so that the first index corresponds to the batch size\n",
    "            encoded_states = np.array(env.state_encode_arch1(state)).reshape(1, self.state_size)\n",
    "\n",
    "            # predict q values for all possible actions of a given state\n",
    "            pred_q_values = self.model.predict(encoded_states)\n",
    "\n",
    "            # Filter/Truncate the array of predicted q values corresponding to selected requests\n",
    "            # for a given location i.e, to only those actions that are part of the ride requests.\n",
    "            possible_q_values = [pred_q_values[0][i] for i in possible_actions_index]\n",
    "\n",
    "            # choosing request with high q value and sending the correspoding action\n",
    "            return possible_actions_index[np.argmax(possible_q_values)]\n",
    "\n",
    "    def append_sample(self, state, action, reward, next_state, done):\n",
    "        \"\"\"Appending state, action, reward, next_state to replay buffer\"\"\"\n",
    "        self.memory.append((state, action, reward, next_state, done))\n",
    "\n",
    "        # pick samples randomly from replay memory (with batch_size) and train the network\n",
    "\n",
    "    def train_model(self):\n",
    "        \"\"\"Train the neural network\"\"\"\n",
    "        if len(self.memory) > self.batch_size:\n",
    "            # Sample batch from the memory\n",
    "            mini_batch = random.sample(self.memory, self.batch_size)\n",
    "            # initializing 2 matrices: update_input and update_output\n",
    "            update_output = np.zeros((self.batch_size, self.state_size))\n",
    "            update_input = np.zeros((self.batch_size, self.state_size))\n",
    "            actions, rewards, done = [], [], []\n",
    "\n",
    "            for i in range(self.batch_size):\n",
    "                state, action, reward, next_state, is_done = mini_batch[i]\n",
    "                update_input[i] = env.state_encode_arch1(state)\n",
    "                actions.append(action)\n",
    "                rewards.append(reward)\n",
    "                update_output[i] = env.state_encode_arch1(next_state)\n",
    "                done.append(is_done)\n",
    "\n",
    "            # predicting the target q values from state s\n",
    "            target = self.model.predict(update_input)\n",
    "            # target for q network\n",
    "            target_q_val = self.model.predict(update_output)\n",
    "\n",
    "            # update the target values\n",
    "            for i in range(self.batch_size):\n",
    "                if done[i]:  # if terminal state\n",
    "                    target[i][actions[i]] = rewards[i]\n",
    "                else:  # if non terminal state\n",
    "                    target[i][actions[i]] = rewards[i] + (self.discount_factor * np.max(target_q_val[i]))\n",
    "\n",
    "            # fitting model and tracking the loss values\n",
    "            self.model.fit(update_input, target, batch_size=self.batch_size, epochs=1, verbose=0)\n",
    "\n",
    "    def save_tracking_states(self):\n",
    "        # using the model to predict q value of the state we are tracking\n",
    "        q_value = self.model.predict(self.track_state)\n",
    "        # grabbing the q value of action index we are tracking\n",
    "        self.states_tracked.append(q_value[0][2])\n",
    "\n",
    "    def save(self, name):\n",
    "        self.model.save(\"model.h5\")\n",
    "        with open(name, 'wb') as file:\n",
    "            pickle.dump(self.model.get_weights(), file, pickle.HIGHEST_PROTOCOL)"
   ]
  },
  {
   "cell_type": "markdown",
   "metadata": {
    "id": "SxYVg6mPRxwJ"
   },
   "source": [
    "### DQN block\n",
    "for episode in range(EPISODES):\n",
    "\n",
    "    - # Write code here\n",
    "    - # Call the environment\n",
    "    - # Call all the initialised variables of the environment\n",
    "    \n",
    "\n",
    "    - #Call the DQN agent\n",
    "    \n",
    "    \n",
    "    - while !terminal_state:\n",
    "        \n",
    "        -- # Write your code here\n",
    "        -- # 1. Pick epsilon-greedy action from possible actions for the current state\n",
    "        -- # 2. Evaluate your reward and next state\n",
    "        -- # 3. Append the experience to the memory\n",
    "        -- # 4. Train the model by calling function agent.train_model\n",
    "        -- # 5. Keep a track of rewards, Q-values, loss"
   ]
  },
  {
   "cell_type": "code",
   "execution_count": 28,
   "metadata": {
    "executionInfo": {
     "elapsed": 415,
     "status": "ok",
     "timestamp": 1626580512821,
     "user": {
      "displayName": "Manoj Romina",
      "photoUrl": "",
      "userId": "05949028983322850580"
     },
     "user_tz": -330
    },
    "id": "4DT6F9_XRxwJ"
   },
   "outputs": [],
   "source": [
    "# episodes and other parameters\n",
    "episode_time = 24 * 30  # 30 days before which car has to be recharged\n",
    "EPISODES = 500\n",
    "m = 5\n",
    "t = 24\n",
    "d = 7\n",
    "\n",
    "# Set up state and action sizes.\n",
    "state_size = m + t + d\n",
    "action_size = len(action_space)\n",
    "\n",
    "# Invoke agent class\n",
    "agent = DQNAgent(action_size=action_size, state_size=state_size)\n",
    "\n",
    "# to store rewards in each episode\n",
    "rewards_per_episode, episodes = [], []\n",
    "\n",
    "# Rewards for state [0, 0, 0] being tracked.\n",
    "rewards_init_state = []"
   ]
  },
  {
   "cell_type": "markdown",
   "metadata": {
    "id": "S0dpTR5ARxwK"
   },
   "source": [
    "##### Run the episodes, build up replay buffer and train the model.\n",
    "Note:\n",
    "The moment the total episode time exceeds 720 (30 days), we ignore the most recent ride and do NOT save that experience in the replay memory. <br>\n",
    "The init state is randomly picked from the state space for each episode."
   ]
  },
  {
   "cell_type": "code",
   "execution_count": null,
   "metadata": {
    "colab": {
     "base_uri": "https://localhost:8080/"
    },
    "id": "LXdD9YTXRxwK",
    "outputId": "b0938b9f-3813-4cec-8b4b-0c1b97daa6a2"
   },
   "outputs": [
    {
     "name": "stdout",
     "output_type": "stream",
     "text": [
      "Initiating Episodic Training\n",
      "Episode: 99, Reward: -148.0, Memory Length: 2000, Agent Epsilon: 0.9147549460502341, Total Time: 726.0\n",
      "Saving model at 99\n",
      "Episode: 199, Reward: -105.0, Memory Length: 2000, Agent Epsilon: 0.8360239327645561, Total Time: 723.0\n",
      "Saving model at 199\n"
     ]
    }
   ],
   "source": [
    "start_time = time.time()\n",
    "score_tracked = []\n",
    "print(\"Initiating Episodic Training\")\n",
    "for episode in range(EPISODES):\n",
    "    terminal_state = False\n",
    "    score = 0\n",
    "    track_reward = False\n",
    "    \n",
    "    # recreating new object at each episode i.e, resetting\n",
    "    env = CabDriver()\n",
    "    action_space, state_space, state = env.reset()\n",
    "    \n",
    "    # saving the initial state so that reward can be tracked if state is [0, 0, 0]\n",
    "    initial_state = env.state_init\n",
    "    \n",
    "    total_time = 0\n",
    "    while not terminal_state:\n",
    "        # getting a list of ride requests the driver got\n",
    "        possible_actions_indices, actions = env.get_requests(state)\n",
    "        # 1. Pick epsilon-greedy action from possible actions for the current state\n",
    "        action = agent.get_action(state, possible_actions_indices, actions, episode)\n",
    "        # 2. Evaluate your reward and next state\n",
    "        reward, next_state, ride_time = env.step(state, env.action_space[action], Time_matrix)\n",
    "        \n",
    "        # total time taken for the ride\n",
    "        total_time += ride_time\n",
    "        \n",
    "        if total_time > episode_time:\n",
    "            # if the total time taken crosses the time limit of 720, stop the episode\n",
    "            terminal_state = True\n",
    "        else:\n",
    "            # 3. Append the experience to the memory\n",
    "            agent.append_sample(state, action, reward, next_state, terminal_state)\n",
    "            \n",
    "            if ((episode + 1)) % 20 == 0:\n",
    "              # 4. Train the model by calling function agent.train_model\n",
    "              agent.train_model()\n",
    "\n",
    "            # 5. Keep a track of rewards, Q-values, loss\n",
    "            score += reward\n",
    "            state = next_state\n",
    "            \n",
    "    # store total reward obtained in this episode\n",
    "    rewards_per_episode.append(score)\n",
    "    episodes.append(episode)\n",
    "    \n",
    "    # print status for every 100 episodes\n",
    "    if ((episode + 1) % 100) == 0:\n",
    "        print(f\"Episode: {episode}, Reward: {score}, Memory Length: {len(agent.memory)}\" + \n",
    "              f\", Agent Epsilon: {agent.epsilon}, Total Time: {total_time}\")\n",
    "        \n",
    "    # saving the q value of the state-action pair we are tracking after every 50\n",
    "    if (episode + 1) % 50 == 0:\n",
    "        agent.save_tracking_states()\n",
    "    \n",
    "    # total rewards per episode\n",
    "    score_tracked.append(score)\n",
    "    \n",
    "    # save model for every 1000 episode\n",
    "    if (episode + 1) % 100 == 0 and episode != 0:\n",
    "        print(f\"Saving model at {episode}\")\n",
    "        agent.save(name=\"model_weights.pkl\")\n",
    "        \n",
    "print(f\"Total Elapsed Time: {time.time() - start_time}\")"
   ]
  },
  {
   "cell_type": "code",
   "execution_count": null,
   "metadata": {
    "id": "Kd9451_QRxwL"
   },
   "outputs": [],
   "source": []
  },
  {
   "cell_type": "markdown",
   "metadata": {
    "id": "zcQIDz8ARxwM"
   },
   "source": [
    "### Tracking Convergence\n",
    "#### Tracking the state-action pairs for checking convergence"
   ]
  },
  {
   "cell_type": "code",
   "execution_count": null,
   "metadata": {
    "id": "6L6YImsqRxwM"
   },
   "outputs": [],
   "source": []
  },
  {
   "cell_type": "code",
   "execution_count": null,
   "metadata": {
    "id": "Bq5BKBm7RxwM"
   },
   "outputs": [],
   "source": []
  },
  {
   "cell_type": "code",
   "execution_count": null,
   "metadata": {
    "id": "36VwhxgnRxwM"
   },
   "outputs": [],
   "source": []
  },
  {
   "cell_type": "code",
   "execution_count": null,
   "metadata": {
    "id": "ZWleZcBARxwM"
   },
   "outputs": [],
   "source": []
  }
 ],
 "metadata": {
  "colab": {
   "collapsed_sections": [],
   "name": "DQN_Agent_Arch1.ipynb",
   "provenance": []
  },
  "kernelspec": {
   "display_name": "Python 3",
   "language": "python",
   "name": "python3"
  },
  "language_info": {
   "codemirror_mode": {
    "name": "ipython",
    "version": 3
   },
   "file_extension": ".py",
   "mimetype": "text/x-python",
   "name": "python",
   "nbconvert_exporter": "python",
   "pygments_lexer": "ipython3",
   "version": "3.8.5"
  }
 },
 "nbformat": 4,
 "nbformat_minor": 1
}
